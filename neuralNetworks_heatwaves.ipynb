{
  "cells": [
    {
      "cell_type": "markdown",
      "source": [
        "Some of this code, particularly the window generator functions, has been pulled from a very helpful TensorFlow turotial. This is the citation below.\n",
        "\n",
        "“Time Series Forecasting  :  Tensorflow Core.” TensorFlow, 15 Dec. 2022, www.tensorflow.org/tutorials/structured_data/time_series#single-shot_models."
      ],
      "metadata": {
        "id": "phN3LiVDQotn"
      }
    },
    {
      "cell_type": "code",
      "execution_count": 1,
      "metadata": {
        "id": "e8J1YRpl-QSp"
      },
      "outputs": [],
      "source": [
        "import os\n",
        "import datetime\n",
        "\n",
        "import IPython\n",
        "import IPython.display\n",
        "import matplotlib as mpl\n",
        "import matplotlib.pyplot as plt\n",
        "import numpy as np\n",
        "import pandas as pd\n",
        "import seaborn as sns\n",
        "import tensorflow as tf\n",
        "\n",
        "mpl.rcParams['figure.figsize'] = (8, 6)\n",
        "mpl.rcParams['axes.grid'] = False"
      ]
    },
    {
      "cell_type": "markdown",
      "metadata": {
        "id": "XrSplU2vdvJX"
      },
      "source": [
        "**Data Pre-processing**\n"
      ]
    },
    {
      "cell_type": "code",
      "execution_count": 2,
      "metadata": {
        "id": "1-9Ff_Ef-dPz"
      },
      "outputs": [],
      "source": [
        "df = pd.read_csv('/content/HW_cluster0_rework.csv')"
      ]
    },
    {
      "cell_type": "code",
      "source": [
        "df"
      ],
      "metadata": {
        "id": "LbEAvzyHQAoR"
      },
      "execution_count": null,
      "outputs": []
    },
    {
      "cell_type": "code",
      "source": [
        "df['Heatwave'].value_counts()"
      ],
      "metadata": {
        "id": "ebjUDwz2QB6Z"
      },
      "execution_count": null,
      "outputs": []
    },
    {
      "cell_type": "code",
      "execution_count": null,
      "metadata": {
        "id": "9fCY-zdzEgnV"
      },
      "outputs": [],
      "source": [
        "df0.describe().transpose()"
      ]
    },
    {
      "cell_type": "code",
      "execution_count": 3,
      "metadata": {
        "id": "dV41Piq_2Meo"
      },
      "outputs": [],
      "source": [
        "df = df.sort_values(by ='time')"
      ]
    },
    {
      "cell_type": "markdown",
      "source": [
        "Creation of training, validation, and testing sets"
      ],
      "metadata": {
        "id": "rdgkHG4OQT2d"
      }
    },
    {
      "cell_type": "code",
      "execution_count": 4,
      "metadata": {
        "id": "YmdWfRBGHNkc"
      },
      "outputs": [],
      "source": [
        "column_indices = {name: i for i, name in enumerate(df.columns)}\n",
        "\n",
        "n = len(df)\n",
        "train_df = df[0:int(n*0.7)]\n",
        "val_df = df[int(n*0.7):int(n*0.9)]\n",
        "test_df = df[int(n*0.9):]\n",
        "\n",
        "num_features = df.shape[1]"
      ]
    },
    {
      "cell_type": "markdown",
      "source": [
        "Creation of balanced training set for curriculum learning"
      ],
      "metadata": {
        "id": "V2jb_wNYQfe1"
      }
    },
    {
      "cell_type": "code",
      "source": [
        "balanced_train = pd.DataFrame()"
      ],
      "metadata": {
        "id": "tfokwppTmDMX"
      },
      "execution_count": null,
      "outputs": []
    },
    {
      "cell_type": "code",
      "source": [
        "\n",
        "for ii in range(30,len(train_df)-60,60):\n",
        "  next_30 = train_df.iloc[ii:ii+30]\n",
        "  next_30 = next_30[next_30[\"Heatwave\"] == 1]\n",
        "  if (next_30.empty == False):\n",
        "      balanced_train = pd.concat([balanced_train,train_df.iloc[ii-30:ii+30]])\n",
        "\n"
      ],
      "metadata": {
        "id": "CPvTZ1rdII9e"
      },
      "execution_count": null,
      "outputs": []
    },
    {
      "cell_type": "code",
      "source": [
        "balanced_train['Heatwave'].value_counts()"
      ],
      "metadata": {
        "id": "JyxG5YTTHB_5"
      },
      "execution_count": null,
      "outputs": []
    },
    {
      "cell_type": "code",
      "source": [
        "train_df = balanced_train"
      ],
      "metadata": {
        "id": "W-PBE7jb3gs0"
      },
      "execution_count": null,
      "outputs": []
    },
    {
      "cell_type": "markdown",
      "source": [
        "Set up for scaling the data with normalization"
      ],
      "metadata": {
        "id": "pbA1ltoGRdbq"
      }
    },
    {
      "cell_type": "code",
      "execution_count": 5,
      "metadata": {
        "id": "_X8Q5hu_ev-F"
      },
      "outputs": [],
      "source": [
        "time_col = train_df.pop('time')\n",
        "time_col_v = val_df.pop('time')\n",
        "time_col_ts = test_df.pop('time')\n",
        "time_col_or = df.pop('time')\n",
        "\n"
      ]
    },
    {
      "cell_type": "code",
      "execution_count": 6,
      "metadata": {
        "id": "QlqsW3Kqq-_P"
      },
      "outputs": [],
      "source": [
        "month_col_train = train_df.pop('month_y')\n",
        "month_col_val = val_df.pop('month_y')\n",
        "month_col_test = test_df.pop('month_y')\n",
        "month_col = df.pop('month_y')"
      ]
    },
    {
      "cell_type": "code",
      "execution_count": 7,
      "metadata": {
        "id": "ZgfOheE_rMVn"
      },
      "outputs": [],
      "source": [
        "iso_col_train = train_df.pop('isobaricInhPa')\n",
        "iso_col_val = val_df.pop('isobaricInhPa')\n",
        "iso_col_test = test_df.pop('isobaricInhPa')\n",
        "iso_col = df.pop('isobaricInhPa')"
      ]
    },
    {
      "cell_type": "code",
      "source": [
        "h_col_train = train_df.pop('Heatwave')\n",
        "h_col_val = val_df.pop('Heatwave')\n",
        "h_col_test = test_df.pop('Heatwave')\n",
        "h_col = df.pop('Heatwave')"
      ],
      "metadata": {
        "id": "2FYqN_XxWKE9"
      },
      "execution_count": 8,
      "outputs": []
    },
    {
      "cell_type": "markdown",
      "source": [
        "Normalizing the data"
      ],
      "metadata": {
        "id": "p_GiUQ56SqYg"
      }
    },
    {
      "cell_type": "code",
      "execution_count": 9,
      "metadata": {
        "id": "R1qRntTmHecA"
      },
      "outputs": [],
      "source": [
        "train_mean = train_df.mean()\n",
        "train_std = train_df.std()\n",
        "\n",
        "train_df = (train_df - train_mean) / train_std\n",
        "val_df = (val_df - train_mean) / train_std\n",
        "test_df = (test_df - train_mean) / train_std"
      ]
    },
    {
      "cell_type": "code",
      "execution_count": 10,
      "metadata": {
        "id": "lgScemqCWUlk",
        "colab": {
          "base_uri": "https://localhost:8080/",
          "height": 556
        },
        "outputId": "c97d1d12-c4c6-4208-c778-dd569bbc7a62"
      },
      "outputs": [
        {
          "output_type": "display_data",
          "data": {
            "text/plain": [
              "<Figure size 1200x600 with 1 Axes>"
            ],
            "image/png": "[encoded data removed]"
          },
          "metadata": {}
        }
      ],
      "source": [
        "df_std = (df - train_mean) / train_std\n",
        "df_std = df_std.melt(var_name='Column', value_name='Normalized')\n",
        "plt.figure(figsize=(12, 6))\n",
        "ax = sns.violinplot(x='Column', y='Normalized', data=df_std)\n",
        "_ = ax.set_xticklabels(df.keys(), rotation=90)"
      ]
    },
    {
      "cell_type": "code",
      "execution_count": 11,
      "metadata": {
        "id": "KtZJ3KgSriID"
      },
      "outputs": [],
      "source": [
        "train_df['isobaricInhPa'] = iso_col_train\n",
        "val_df['isobaricInhPa'] = iso_col_val\n",
        "test_df['isobaricInhPa'] = iso_col_test"
      ]
    },
    {
      "cell_type": "code",
      "execution_count": 12,
      "metadata": {
        "id": "_N7j6Cl4r-uB"
      },
      "outputs": [],
      "source": [
        "train_df['Heatwave'] = h_col_train\n",
        "val_df['Heatwave'] = h_col_val\n",
        "test_df['Heatwave'] = h_col_test"
      ]
    },
    {
      "cell_type": "code",
      "source": [
        "train_df['month_y'] = month_col_train\n",
        "val_df['month_y'] = month_col_val\n",
        "test_df['month_y'] = month_col_test"
      ],
      "metadata": {
        "id": "JCKeC0TUHXWs"
      },
      "execution_count": 13,
      "outputs": []
    },
    {
      "cell_type": "markdown",
      "metadata": {
        "id": "hWsBHNDledBq"
      },
      "source": [
        "**Creation of windows**"
      ]
    },
    {
      "cell_type": "code",
      "execution_count": 14,
      "metadata": {
        "id": "AdwnKRw1bEfy"
      },
      "outputs": [],
      "source": [
        "class WindowGenerator():\n",
        "  def __init__(self, input_width, label_width, shift,\n",
        "               train_df=train_df, val_df=val_df, test_df=test_df,\n",
        "               label_columns=None):\n",
        "    # Store the raw data.\n",
        "    self.train_df = train_df\n",
        "    self.val_df = val_df\n",
        "    self.test_df = test_df\n",
        "\n",
        "    # Work out the label column indices.\n",
        "    self.label_columns = label_columns\n",
        "    if label_columns is not None:\n",
        "      self.label_columns_indices = {name: i for i, name in\n",
        "                                    enumerate(label_columns)}\n",
        "    self.column_indices = {name: i for i, name in\n",
        "                           enumerate(train_df.columns)}\n",
        "\n",
        "    # Work out the window parameters.\n",
        "    self.input_width = input_width\n",
        "    self.label_width = label_width\n",
        "    self.shift = shift\n",
        "\n",
        "    self.total_window_size = input_width + shift\n",
        "\n",
        "    self.input_slice = slice(0, input_width)\n",
        "    self.input_indices = np.arange(self.total_window_size)[self.input_slice]\n",
        "\n",
        "    self.label_start = self.total_window_size - self.label_width\n",
        "    self.labels_slice = slice(self.label_start, None)\n",
        "    self.label_indices = np.arange(self.total_window_size)[self.labels_slice]\n",
        "\n",
        "\n",
        "\n",
        "  def __repr__(self):\n",
        "    return '\\n'.join([\n",
        "        f'Total window size: {self.total_window_size}',\n",
        "        f'Input indices: {self.input_indices}',\n",
        "        f'Label indices: {self.label_indices}',\n",
        "        f'Label column name(s): {self.label_columns}'])"
      ]
    },
    {
      "cell_type": "code",
      "execution_count": 15,
      "metadata": {
        "id": "ddVjH_sDdK9d"
      },
      "outputs": [],
      "source": [
        "def split_window(self, features):\n",
        "  inputs = features[:, self.input_slice, :]\n",
        "  labels = features[:, self.labels_slice, :]\n",
        "  if self.label_columns is not None:\n",
        "    labels = tf.stack(\n",
        "        [labels[:, :, self.column_indices[name]] for name in self.label_columns],\n",
        "        axis=-1)\n",
        "\n",
        "  # Slicing doesn't preserve static shape information, so set the shapes\n",
        "  # manually. This way the `tf.data.Datasets` are easier to inspect.\n",
        "  inputs.set_shape([None, self.input_width, None])\n",
        "  labels.set_shape([None, self.label_width, None])\n",
        "\n",
        "  return inputs, labels\n",
        "\n",
        "WindowGenerator.split_window = split_window"
      ]
    },
    {
      "cell_type": "code",
      "execution_count": 16,
      "metadata": {
        "id": "iHjwtEud4fkd"
      },
      "outputs": [],
      "source": [
        "def plot(self, model=None, plot_col='Heatwave', max_subplots=3):\n",
        "  inputs, labels = self.example\n",
        "  plt.figure(figsize=(12, 8))\n",
        "  plot_col_index = self.column_indices[plot_col]\n",
        "  max_n = min(max_subplots, len(inputs))\n",
        "  for n in range(max_n):\n",
        "    plt.subplot(max_n, 1, n+1)\n",
        "    plt.ylabel(f'{plot_col} [normed]')\n",
        "    plt.plot(self.input_indices, inputs[n, :, plot_col_index],\n",
        "             label='Inputs', marker='.', zorder=-10)\n",
        "\n",
        "    if self.label_columns:\n",
        "      label_col_index = self.label_columns_indices.get(plot_col, None)\n",
        "    else:\n",
        "      label_col_index = plot_col_index\n",
        "\n",
        "    if label_col_index is None:\n",
        "      continue\n",
        "\n",
        "    plt.scatter(self.label_indices, labels[n, :, label_col_index],\n",
        "                edgecolors='k', label='Labels', c='#2ca02c', s=64)\n",
        "    if model is not None:\n",
        "      predictions = model(inputs)\n",
        "      plt.scatter(self.label_indices, predictions[n, :, label_col_index],\n",
        "                  marker='X', edgecolors='k', label='Predictions',\n",
        "                  c='#ff7f0e', s=64)\n",
        "\n",
        "    if n == 0:\n",
        "      plt.legend()\n",
        "\n",
        "  plt.xlabel('year_y')\n",
        "\n",
        "WindowGenerator.plot = plot"
      ]
    },
    {
      "cell_type": "markdown",
      "metadata": {
        "id": "q4bQoQlhfPdo"
      },
      "source": [
        "# Convert to tf.data.dataset"
      ]
    },
    {
      "cell_type": "code",
      "execution_count": 17,
      "metadata": {
        "id": "h6hdk2RLLTK4"
      },
      "outputs": [],
      "source": [
        "def make_dataset(self, data):\n",
        "  data = np.array(data, dtype=np.float32)\n",
        "  ds = tf.keras.utils.timeseries_dataset_from_array(\n",
        "      data=data,\n",
        "      targets=None,\n",
        "      sequence_length=self.total_window_size,\n",
        "      sequence_stride=1,\n",
        "      shuffle=True,\n",
        "      batch_size=5,)\n",
        "\n",
        "  ds = ds.map(self.split_window)\n",
        "\n",
        "  return ds\n",
        "\n",
        "WindowGenerator.make_dataset = make_dataset"
      ]
    },
    {
      "cell_type": "code",
      "execution_count": 18,
      "metadata": {
        "id": "B_y1M8aTLXyi"
      },
      "outputs": [],
      "source": [
        "@property\n",
        "def train(self):\n",
        "  return self.make_dataset(self.train_df)\n",
        "\n",
        "@property\n",
        "def val(self):\n",
        "  return self.make_dataset(self.val_df)\n",
        "\n",
        "@property\n",
        "def test(self):\n",
        "  return self.make_dataset(self.test_df)\n",
        "\n",
        "@property\n",
        "def example(self):\n",
        "  \"\"\"Get and cache an example batch of `inputs, labels` for plotting.\"\"\"\n",
        "  result = getattr(self, '_example', None)\n",
        "  if result is None:\n",
        "    # No example batch was found, so get one from the `.train` dataset\n",
        "    result = next(iter(self.train))\n",
        "    # And cache it for next time\n",
        "    self._example = result\n",
        "  return result\n",
        "\n",
        "WindowGenerator.train = train\n",
        "WindowGenerator.val = val\n",
        "WindowGenerator.test = test\n",
        "WindowGenerator.example = example"
      ]
    },
    {
      "cell_type": "markdown",
      "metadata": {
        "id": "IGYIboppf5Au"
      },
      "source": [
        "# Models\n"
      ]
    },
    {
      "cell_type": "markdown",
      "source": [
        "Creation of window: looking at past 10 days of data to predict next 10 days heatwave values"
      ],
      "metadata": {
        "id": "vwdopcJ_SAVB"
      }
    },
    {
      "cell_type": "code",
      "execution_count": null,
      "metadata": {
        "id": "uJ7fFPDJcGKd"
      },
      "outputs": [],
      "source": [
        "OUT_STEPS = 30\n",
        "multi_window = WindowGenerator(input_width=30,\n",
        "                               label_width=OUT_STEPS,\n",
        "                               shift=OUT_STEPS,\n",
        "                               label_columns=['Heatwave']\n",
        "                               )\n",
        "\n",
        "multi_window.plot()\n",
        "multi_window"
      ]
    },
    {
      "cell_type": "markdown",
      "source": [
        "Have to set number of features to 1"
      ],
      "metadata": {
        "id": "LNfd69jmR3Jv"
      }
    },
    {
      "cell_type": "code",
      "execution_count": 20,
      "metadata": {
        "id": "fBia19GrAuy8"
      },
      "outputs": [],
      "source": [
        "num_features = 1"
      ]
    },
    {
      "cell_type": "markdown",
      "source": [
        "Convolutional model"
      ],
      "metadata": {
        "id": "k7D4dwghSCy7"
      }
    },
    {
      "cell_type": "code",
      "execution_count": 21,
      "metadata": {
        "id": "Sl4G6d3kC8b3"
      },
      "outputs": [],
      "source": [
        "CONV_WIDTH = 30\n",
        "binary_conv_model = tf.keras.Sequential([\n",
        "    # Shape [batch, time, features] => [batch, CONV_WIDTH, features]\n",
        "    tf.keras.layers.Lambda(lambda x: x[:, -CONV_WIDTH:, :]),\n",
        "    # Shape => [batch, 1, conv_units]\n",
        "    tf.keras.layers.Conv1D(550, activation='sigmoid', kernel_size=(CONV_WIDTH)),\n",
        "    # Shape => [batch, 1,  out_steps*features]\n",
        "    tf.keras.layers.Dense(OUT_STEPS*num_features,\n",
        "                          kernel_initializer=tf.initializers.GlorotUniform()),\n",
        "    # Shape => [batch, out_steps, features]\n",
        "    tf.keras.layers.Reshape([OUT_STEPS, num_features])])\n",
        "\n",
        "                            \n",
        "\n",
        "\n",
        "\n",
        "binary_conv_model.compile(loss=tf.keras.losses.BinaryCrossentropy(),\n",
        "                          optimizer=tf.keras.optimizers.Adam(learning_rate = 0.1),\n",
        "                          metrics=[tf.keras.metrics.Recall(),'acc'])\n",
        "\n"
      ]
    },
    {
      "cell_type": "markdown",
      "source": [
        "Training step"
      ],
      "metadata": {
        "id": "2hP6FKueSR1H"
      }
    },
    {
      "cell_type": "code",
      "execution_count": null,
      "metadata": {
        "id": "C7zYgBnd3gpF"
      },
      "outputs": [],
      "source": [
        "history = binary_conv_model.fit(multi_window.train, epochs=20,\n",
        "                      validation_data=multi_window.val\n",
        "                      )\n"
      ]
    },
    {
      "cell_type": "markdown",
      "source": [
        "Checking performance on testing set"
      ],
      "metadata": {
        "id": "KxVhYPCkSTEa"
      }
    },
    {
      "cell_type": "code",
      "source": [
        "performance = {}\n",
        "performance['binary_conv_model'] = binary_conv_model.evaluate(multi_window.test, verbose=2)"
      ],
      "metadata": {
        "colab": {
          "base_uri": "https://localhost:8080/"
        },
        "id": "vG24Ag6cuMEN",
        "outputId": "ddfdca79-364a-41ea-a7be-762a6ec02ca8"
      },
      "execution_count": 23,
      "outputs": [
        {
          "output_type": "stream",
          "name": "stdout",
          "text": [
            "134/134 - 1s - loss: 7.5690 - recall: 0.2005 - acc: 0.5081 - 948ms/epoch - 7ms/step\n"
          ]
        }
      ]
    },
    {
      "cell_type": "markdown",
      "source": [
        "RNN (LSTM) model"
      ],
      "metadata": {
        "id": "gKWyRNIxSFWK"
      }
    },
    {
      "cell_type": "code",
      "source": [
        "multi_lstm_model = tf.keras.Sequential([\n",
        "    # Shape [batch, time, features] => [batch, lstm_units].\n",
        "    # Adding more `lstm_units` just overfits more quickly.\n",
        "    tf.keras.layers.LSTM(32, return_sequences=False),\n",
        "    # Shape => [batch, out_steps*features].\n",
        "    tf.keras.layers.Dense(OUT_STEPS*num_features,\n",
        "                          kernel_initializer=tf.initializers.GlorotUniform()),\n",
        "    # Shape => [batch, out_steps, features].\n",
        "    tf.keras.layers.Reshape([OUT_STEPS, num_features])\n",
        "    ])\n",
        "\n",
        "multi_lstm_model.compile(loss=tf.keras.losses.BinaryCrossentropy(),\n",
        "                          optimizer=tf.keras.optimizers.Adam(learning_rate = 0.1),\n",
        "                          metrics=[tf.keras.metrics.Recall(),'acc'])"
      ],
      "metadata": {
        "id": "liLFr5ontKhK"
      },
      "execution_count": 24,
      "outputs": []
    },
    {
      "cell_type": "markdown",
      "source": [
        "Training step"
      ],
      "metadata": {
        "id": "tp4n9vFnSY0x"
      }
    },
    {
      "cell_type": "code",
      "source": [
        "history = multi_lstm_model.fit(multi_window.train, epochs=20,validation_data=multi_window.val)"
      ],
      "metadata": {
        "id": "S-Z0wm2C78DB"
      },
      "execution_count": null,
      "outputs": []
    },
    {
      "cell_type": "markdown",
      "source": [
        "Checking performance on testing set"
      ],
      "metadata": {
        "id": "HCw6oc2iSZ0W"
      }
    },
    {
      "cell_type": "code",
      "source": [
        "performance = {}\n",
        "performance['multi_lstm_model'] = multi_lstm_model.evaluate(multi_window.test, verbose=2)"
      ],
      "metadata": {
        "colab": {
          "base_uri": "https://localhost:8080/"
        },
        "id": "iyy7jbuc-24_",
        "outputId": "4596105b-30d6-4121-ed43-aac2bc1dffd6"
      },
      "execution_count": 26,
      "outputs": [
        {
          "output_type": "stream",
          "name": "stdout",
          "text": [
            "134/134 - 1s - loss: 7.5183 - recall_1: 0.1359 - acc: 0.5118 - 984ms/epoch - 7ms/step\n"
          ]
        }
      ]
    }
  ],
  "metadata": {
    "accelerator": "GPU",
    "colab": {
      "provenance": []
    },
    "gpuClass": "standard",
    "kernelspec": {
      "display_name": "Python 3",
      "name": "python3"
    },
    "language_info": {
      "name": "python"
    }
  },
  "nbformat": 4,
  "nbformat_minor": 0
}